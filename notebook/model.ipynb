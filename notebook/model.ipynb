{
 "cells": [
  {
   "cell_type": "code",
   "execution_count": 1,
   "metadata": {
    "ExecuteTime": {
     "end_time": "2018-08-30T03:16:36.437481Z",
     "start_time": "2018-08-30T03:16:23.631711Z"
    }
   },
   "outputs": [
    {
     "name": "stderr",
     "output_type": "stream",
     "text": [
      "/home/ubuntu/miniconda/envs/home_credit/lib/python3.6/site-packages/sklearn/cross_validation.py:41: DeprecationWarning: This module was deprecated in version 0.18 in favor of the model_selection module into which all the refactored classes and functions are moved. Also note that the interface of the new CV iterators are different from that of this module. This module will be removed in 0.20.\n",
      "  \"This module will be removed in 0.20.\", DeprecationWarning)\n",
      "/home/ubuntu/miniconda/envs/home_credit/lib/python3.6/site-packages/sklearn/grid_search.py:42: DeprecationWarning: This module was deprecated in version 0.18 in favor of the model_selection module into which all the refactored classes and functions are moved. This module will be removed in 0.20.\n",
      "  DeprecationWarning)\n"
     ]
    }
   ],
   "source": [
    "import pandas as pd\n",
    "import numpy as np\n",
    "from sklearn.pipeline import Pipeline\n",
    "from sklearn.base import BaseEstimator, TransformerMixin\n",
    "from sklearn.preprocessing import MinMaxScaler, Imputer, LabelBinarizer, StandardScaler\n",
    "from sklearn.linear_model import LogisticRegression\n",
    "from sklearn.ensemble import RandomForestClassifier\n",
    "from sklearn.cross_validation import cross_val_score, train_test_split\n",
    "from sklearn.grid_search import RandomizedSearchCV, GridSearchCV\n",
    "from sklearn.svm import SVC, LinearSVC\n",
    "from xgboost import XGBClassifier\n",
    "import lightgbm\n",
    "import sys\n",
    "sys.path.insert(0,'../scripts/')\n",
    "from data_loader import load_data, extract_X_y, splitting\n",
    "from sklearn_pandas import DataFrameMapper\n",
    "from pipeline_utils import AddTwoCategoricalVariables, ColumnExtractor, DropColumns, FeatureNormalizer, FillNa, Numerical2Categorical, SexBinarizer, OneHotEncoding, FillNa2\n",
    "# Suppress warnings \n",
    "import warnings\n",
    "warnings.filterwarnings('ignore')"
   ]
  },
  {
   "cell_type": "code",
   "execution_count": 2,
   "metadata": {
    "ExecuteTime": {
     "end_time": "2018-08-30T03:19:24.981315Z",
     "start_time": "2018-08-30T03:19:24.977743Z"
    }
   },
   "outputs": [],
   "source": [
    "train_path = '../data/train.csv'\n",
    "train_path_pkl = '../data/train.pkl'\n",
    "test_path = '../data/test.csv'\n",
    "test_path_pkl = '../data/test.pkl'"
   ]
  },
  {
   "cell_type": "code",
   "execution_count": 3,
   "metadata": {
    "ExecuteTime": {
     "end_time": "2018-08-30T03:19:25.757533Z",
     "start_time": "2018-08-30T03:19:25.642401Z"
    }
   },
   "outputs": [
    {
     "name": "stderr",
     "output_type": "stream",
     "text": [
      "INFO:data_loader:\n",
      "Timings: 'load_data'  112.45 ms\n"
     ]
    }
   ],
   "source": [
    "titanic_data = load_data(train_path, train_path_pkl)"
   ]
  },
  {
   "cell_type": "code",
   "execution_count": 4,
   "metadata": {
    "ExecuteTime": {
     "end_time": "2018-08-30T03:19:26.195425Z",
     "start_time": "2018-08-30T03:19:26.118215Z"
    }
   },
   "outputs": [
    {
     "name": "stderr",
     "output_type": "stream",
     "text": [
      "INFO:data_loader:\n",
      "Timings: 'load_data'  72.22 ms\n"
     ]
    }
   ],
   "source": [
    "test_data = load_data(test_path, test_path_pkl)"
   ]
  },
  {
   "cell_type": "markdown",
   "metadata": {},
   "source": [
    "### Splitting"
   ]
  },
  {
   "cell_type": "code",
   "execution_count": 5,
   "metadata": {
    "ExecuteTime": {
     "end_time": "2018-08-30T03:19:27.360179Z",
     "start_time": "2018-08-30T03:19:27.296593Z"
    }
   },
   "outputs": [
    {
     "name": "stderr",
     "output_type": "stream",
     "text": [
      "INFO:data_loader:\n",
      "Timings: 'extract_X_y'  59.56 ms\n"
     ]
    }
   ],
   "source": [
    "X, y = extract_X_y(titanic_data)"
   ]
  },
  {
   "cell_type": "code",
   "execution_count": 6,
   "metadata": {
    "ExecuteTime": {
     "end_time": "2018-08-30T03:19:27.770821Z",
     "start_time": "2018-08-30T03:19:27.747972Z"
    }
   },
   "outputs": [
    {
     "name": "stderr",
     "output_type": "stream",
     "text": [
      "INFO:data_loader:\n",
      "Timings: 'splitting'  19.33 ms\n"
     ]
    }
   ],
   "source": [
    "X_train, X_val, y_train, y_val = splitting(X,y)"
   ]
  },
  {
   "cell_type": "markdown",
   "metadata": {},
   "source": [
    "### Feature Engineering"
   ]
  },
  {
   "cell_type": "code",
   "execution_count": 25,
   "metadata": {
    "ExecuteTime": {
     "end_time": "2018-08-30T03:34:39.715623Z",
     "start_time": "2018-08-30T03:34:39.711368Z"
    }
   },
   "outputs": [],
   "source": [
    "age_range = [0, 15, 35, 50, 80]\n",
    "age_label = [0, 1, 2, 3]"
   ]
  },
  {
   "cell_type": "code",
   "execution_count": 46,
   "metadata": {
    "ExecuteTime": {
     "end_time": "2018-08-30T03:59:20.720567Z",
     "start_time": "2018-08-30T03:59:20.706834Z"
    }
   },
   "outputs": [],
   "source": [
    "def cross_val_accuracy():\n",
    "    mapper = DataFrameMapper([\n",
    "    (\"Fare\", [FillNa2(\"mean\"), MinMaxScaler()], {'alias': 'Fare'}),\n",
    "    (\"Pclass\", [FillNa2(\"mean\"), MinMaxScaler()], {'alias': 'Pclass'}),\n",
    "    (\"Sex\", FillNa2(\"mean\"),  {'alias': \"Sex\"}),\n",
    "    (\"Age\", FillNa2(\"mean\"),  {'alias': \"Age\"}),\n",
    "    (\"SibSp\", [FillNa2(\"mean\"), MinMaxScaler()], {'alias': 'SibSp'}),\n",
    "    (\"Parch\", [FillNa2(\"mean\"), MinMaxScaler()], {'alias': 'Parch'}),\n",
    "    ], df_out=True)\n",
    "    pipeline = Pipeline([\n",
    "            (\"mapper\", mapper),\n",
    "            (\"sex_binarizer\", SexBinarizer()),\n",
    "            (\"num2cat\", Numerical2Categorical(\"Age\", age_range, age_label)),\n",
    "            (\"add_age_sex\", AddTwoCategoricalVariables(\"Age_cat\", \"Sex\")),\n",
    "            (\"add_sex_class\", AddTwoCategoricalVariables(\"Sex\", \"Pclass\")),\n",
    "            (\"add_age_sex_class\", AddTwoCategoricalVariables(\"Age_cat_Sex\", \"Pclass\")),\n",
    "            (\"one_hot_encoding\", OneHotEncoding([\"Age_cat_Sex\", \"Sex_Pclass\"])),\n",
    "            (\"drop_columns\", DropColumns([\"Age_cat\"])),\n",
    "            ('xgb', XGBClassifier())\n",
    "    ])\n",
    "    scores = cross_val_score(pipeline, X, y, cv=5, scoring=\"roc_auc\")\n",
    "    print(\"cross-validation score: {0:0.4f}\".format(scores.mean()))\n",
    "    return scores.mean(), pipeline"
   ]
  },
  {
   "cell_type": "code",
   "execution_count": 47,
   "metadata": {
    "ExecuteTime": {
     "end_time": "2018-08-30T03:59:22.254323Z",
     "start_time": "2018-08-30T03:59:21.738555Z"
    }
   },
   "outputs": [
    {
     "name": "stdout",
     "output_type": "stream",
     "text": [
      "cross-validation score: 0.8616\n"
     ]
    }
   ],
   "source": [
    "scores, pipeline = cross_val_accuracy()"
   ]
  }
 ],
 "metadata": {
  "kernelspec": {
   "display_name": "Python 3",
   "language": "python",
   "name": "python3"
  },
  "language_info": {
   "codemirror_mode": {
    "name": "ipython",
    "version": 3
   },
   "file_extension": ".py",
   "mimetype": "text/x-python",
   "name": "python",
   "nbconvert_exporter": "python",
   "pygments_lexer": "ipython3",
   "version": "3.6.6"
  }
 },
 "nbformat": 4,
 "nbformat_minor": 2
}
